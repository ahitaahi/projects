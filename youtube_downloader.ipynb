{
  "nbformat": 4,
  "nbformat_minor": 0,
  "metadata": {
    "colab": {
      "provenance": [],
      "authorship_tag": "ABX9TyPQ9h6vDDoFmtcF7/f3oaCx",
      "include_colab_link": true
    },
    "kernelspec": {
      "name": "python3",
      "display_name": "Python 3"
    },
    "language_info": {
      "name": "python"
    }
  },
  "cells": [
    {
      "cell_type": "markdown",
      "metadata": {
        "id": "view-in-github",
        "colab_type": "text"
      },
      "source": [
        "<a href=\"https://colab.research.google.com/github/ahitaahi/projects/blob/main/youtube_downloader.ipynb\" target=\"_parent\"><img src=\"https://colab.research.google.com/assets/colab-badge.svg\" alt=\"Open In Colab\"/></a>"
      ]
    },
    {
      "cell_type": "code",
      "source": [
        "from pytube import YouTube\n",
        "from pytube.exceptions import RegexMatchError\n",
        "\n",
        "try:\n",
        "    url = input(\"Enter the YouTube URL: \")\n",
        "    yt = YouTube(url, use_oauth=True, allow_oauth_cache=True)\n",
        "except RegexMatchError:\n",
        "    print(\"Invalid YouTube URL\")\n",
        "except Exception as e:\n",
        "    print(\"Error:\", str(e))"
      ],
      "metadata": {
        "colab": {
          "base_uri": "https://localhost:8080/"
        },
        "id": "HyY9L19cWRMN",
        "outputId": "369036d1-27d2-479d-fd7c-7e39944e95cb"
      },
      "execution_count": 8,
      "outputs": [
        {
          "name": "stdout",
          "output_type": "stream",
          "text": [
            "Enter the YouTube URL: https://youtu.be/NVnsAC-PCwg\n"
          ]
        }
      ]
    }
  ]
}